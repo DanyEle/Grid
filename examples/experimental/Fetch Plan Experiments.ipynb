{
 "cells": [
  {
   "cell_type": "markdown",
   "metadata": {},
   "source": [
    "### Imports and model specifications"
   ]
  },
  {
   "cell_type": "code",
   "execution_count": 1,
   "metadata": {},
   "outputs": [],
   "source": [
    "# Import dependencies\n",
    "import torch as th\n",
    "import syft as sy\n",
    "import torch.nn as nn\n",
    "import torch.nn.functional as F\n",
    "import grid as gr\n",
    "\n",
    "# Hook\n",
    "hook = sy.TorchHook(th)\n",
    "me = hook.local_worker\n",
    "me.is_client_worker = False\n",
    "    \n",
    "# Connect to nodes\n",
    "alice = gr.WebsocketGridClient(hook, \"http://localhost:3001\", id=\"Alice\")\n",
    "alice.connect()\n",
    "bob = gr.WebsocketGridClient(hook, \"http://localhost:3000\", id=\"Bob\")\n",
    "charlie = gr.WebsocketGridClient(hook, \"http://localhost:3002\", id=\"James\")\n",
    "dan = gr.WebsocketGridClient(hook, \"http://localhost:3003\", id=\"Dan\")\n",
    "bob.connect()\n",
    "charlie.connect()\n",
    "dan.connect()\n",
    "\n",
    "gr.connect_all_nodes([bob, alice, charlie, dan])"
   ]
  },
  {
   "cell_type": "code",
   "execution_count": 2,
   "metadata": {},
   "outputs": [
    {
     "name": "stdout",
     "output_type": "stream",
     "text": [
      "tensor([-0.1888], grad_fn=<AddBackward0>)\n"
     ]
    }
   ],
   "source": [
    "# Support fetch plan + AST tensor\n",
    "plan_func = False\n",
    "\n",
    "if plan_func:\n",
    "    @sy.func2plan(args_shape=[(1,)], state={\"bias\": th.tensor([3.0])})\n",
    "    def plan_mult_3(x, state):\n",
    "        bias = state.read(\"bias\")\n",
    "        x = x + bias\n",
    "        return x\n",
    "else:\n",
    "    class Net(sy.Plan):\n",
    "        def __init__(self):\n",
    "            super(Net, self).__init__(id=\"net\")\n",
    "            self.fc1 = nn.Linear(1, 1)\n",
    "            self.add_to_state([\"fc1\"])\n",
    "\n",
    "        def forward(self, x):\n",
    "            return self.fc1(x)\n",
    "    \n",
    "    plan_mult_3 = Net()\n",
    "    plan_mult_3.build(th.tensor(1))\n",
    "\n",
    "x = th.tensor([1.])\n",
    "print(plan_mult_3(x))\n",
    "    \n",
    "sent_plan = plan_mult_3.send(alice).fix_prec().share(bob, charlie, crypto_provider=dan)"
   ]
  },
  {
   "cell_type": "code",
   "execution_count": null,
   "metadata": {},
   "outputs": [
    {
     "data": {
      "text/html": [
       "<script>Jupyter.notebook.kernel.restart()</script>"
      ]
     },
     "metadata": {},
     "output_type": "display_data"
    }
   ],
   "source": [
    "from IPython.display import display_html\n",
    "\n",
    "def restart_kernel() :\n",
    "    display_html(\"<script>Jupyter.notebook.kernel.restart()</script>\",raw=True)\n",
    "    \n",
    "restart_kernel()"
   ]
  },
  {
   "cell_type": "code",
   "execution_count": 1,
   "metadata": {},
   "outputs": [],
   "source": [
    "# Import dependencies\n",
    "import torch as th\n",
    "import syft as sy\n",
    "import torch.nn as nn\n",
    "import torch.nn.functional as F\n",
    "import grid as gr\n",
    "\n",
    "# Hook\n",
    "hook = sy.TorchHook(th)\n",
    "me = hook.local_worker\n",
    "me.is_client_worker = False\n",
    "    \n",
    "# Connect to nodes\n",
    "alice = gr.WebsocketGridClient(hook, \"http://localhost:3001\", id=\"Alice\")\n",
    "alice.connect()\n",
    "bob = gr.WebsocketGridClient(hook, \"http://localhost:3000\", id=\"Bob\")\n",
    "charlie = gr.WebsocketGridClient(hook, \"http://localhost:3002\", id=\"James\")\n",
    "dan = gr.WebsocketGridClient(hook, \"http://localhost:3003\", id=\"Dan\")\n",
    "bob.connect()\n",
    "charlie.connect()\n",
    "dan.connect()\n",
    "\n",
    "gr.connect_all_nodes([bob, alice, charlie, dan])"
   ]
  },
  {
   "cell_type": "code",
   "execution_count": 2,
   "metadata": {},
   "outputs": [],
   "source": [
    "# Fetch plan\n",
    "fetched_plan = alice.fetch_plan(\"net\")\n",
    "x = th.tensor([1.])\n",
    "x_ptr = x.fix_prec().share(bob, charlie, crypto_provider=dan)\n",
    "\n",
    "# TODO: this should be stored automatically\n",
    "me._objects[x_ptr.id] = x_ptr"
   ]
  },
  {
   "cell_type": "code",
   "execution_count": 3,
   "metadata": {},
   "outputs": [],
   "source": [
    "# TODO: this should be done internally\n",
    "id0, id1 = fetched_plan.state_ids\n",
    "\n",
    "# TODO: we should not have direct access to the weights\n",
    "a_sh = me._objects[id0].fix_prec().share(bob, charlie, crypto_provider=dan)\n",
    "b_sh = me._objects[id1].fix_prec().share(bob, charlie, crypto_provider=dan)\n",
    "\n",
    "# TODO: this should be stored automatically\n",
    "me._objects[a_sh.id] = a_sh\n",
    "me._objects[b_sh.id] = b_sh"
   ]
  },
  {
   "cell_type": "code",
   "execution_count": 4,
   "metadata": {},
   "outputs": [],
   "source": [
    "new_state_ids = [a_sh.id, b_sh.id]"
   ]
  },
  {
   "cell_type": "code",
   "execution_count": 5,
   "metadata": {},
   "outputs": [],
   "source": [
    "fetched_plan.replace_ids(fetched_plan.state_ids, new_state_ids)\n",
    "fetched_plan.state_ids = new_state_ids"
   ]
  },
  {
   "cell_type": "code",
   "execution_count": 6,
   "metadata": {
    "scrolled": true
   },
   "outputs": [
    {
     "name": "stdout",
     "output_type": "stream",
     "text": [
      "tensor([-0.1890])\n"
     ]
    }
   ],
   "source": [
    "print(fetched_plan(x_ptr).get().float_prec())"
   ]
  },
  {
   "cell_type": "code",
   "execution_count": 7,
   "metadata": {},
   "outputs": [
    {
     "name": "stdout",
     "output_type": "stream",
     "text": [
      "net2\n"
     ]
    }
   ],
   "source": [
    "# Support fetching a plan\n",
    "plan_func = False\n",
    "\n",
    "if plan_func:\n",
    "    @sy.func2plan(args_shape=[(1,)], state={\"bias\": th.tensor([3.0])})\n",
    "    def plan_mult_3(x, state):\n",
    "        bias = state.read(\"bias\")\n",
    "        x = x * bias\n",
    "        return x\n",
    "else:\n",
    "    class Net(sy.Plan):\n",
    "        def __init__(self):\n",
    "            super(Net, self).__init__(id=\"net2\")\n",
    "            self.fc1 = nn.Linear(1, 1)\n",
    "            self.add_to_state([\"fc1\"])\n",
    "\n",
    "        def forward(self, x):\n",
    "            return self.fc1(x)\n",
    "    \n",
    "    plan_mult_3 = Net()\n",
    "    plan_mult_3.build(th.tensor(1))\n",
    "\n",
    "sent_plan = plan_mult_3.send(alice)\n",
    "print(sent_plan.id)"
   ]
  },
  {
   "cell_type": "code",
   "execution_count": null,
   "metadata": {},
   "outputs": [
    {
     "data": {
      "text/html": [
       "<script>Jupyter.notebook.kernel.restart()</script>"
      ]
     },
     "metadata": {},
     "output_type": "display_data"
    }
   ],
   "source": [
    "from IPython.display import display_html\n",
    "\n",
    "def restart_kernel() :\n",
    "    display_html(\"<script>Jupyter.notebook.kernel.restart()</script>\",raw=True)\n",
    "    \n",
    "restart_kernel()"
   ]
  },
  {
   "cell_type": "code",
   "execution_count": 1,
   "metadata": {},
   "outputs": [],
   "source": [
    "# Import dependencies\n",
    "import torch as th\n",
    "import syft as sy\n",
    "import torch.nn as nn\n",
    "import torch.nn.functional as F\n",
    "import grid as gr\n",
    "\n",
    "# Hook\n",
    "hook = sy.TorchHook(th)\n",
    "me = hook.local_worker\n",
    "me.is_client_worker = False\n",
    "    \n",
    "# Connect to nodes\n",
    "alice = gr.WebsocketGridClient(hook, \"http://localhost:3001\", id=\"Alice\")\n",
    "alice.connect()\n",
    "bob = gr.WebsocketGridClient(hook, \"http://localhost:3000\", id=\"Bob\")\n",
    "charlie = gr.WebsocketGridClient(hook, \"http://localhost:3002\", id=\"James\")\n",
    "dan = gr.WebsocketGridClient(hook, \"http://localhost:3003\", id=\"Dan\")\n",
    "bob.connect()\n",
    "charlie.connect()\n",
    "dan.connect()\n",
    "\n",
    "gr.connect_all_nodes([bob, alice, charlie, dan])"
   ]
  },
  {
   "cell_type": "code",
   "execution_count": 3,
   "metadata": {},
   "outputs": [
    {
     "name": "stdout",
     "output_type": "stream",
     "text": [
      "tensor([0.8106], requires_grad=True)\n"
     ]
    }
   ],
   "source": [
    "# Fetch plan\n",
    "fetched_plan = alice.fetch_plan(\"net2\")\n",
    "\n",
    "x = th.tensor([1.])\n",
    "print(fetched_plan(x))"
   ]
  }
 ],
 "metadata": {
  "kernelspec": {
   "display_name": "Python 3",
   "language": "python",
   "name": "python3"
  },
  "language_info": {
   "codemirror_mode": {
    "name": "ipython",
    "version": 3
   },
   "file_extension": ".py",
   "mimetype": "text/x-python",
   "name": "python",
   "nbconvert_exporter": "python",
   "pygments_lexer": "ipython3",
   "version": "3.6.7"
  }
 },
 "nbformat": 4,
 "nbformat_minor": 2
}
